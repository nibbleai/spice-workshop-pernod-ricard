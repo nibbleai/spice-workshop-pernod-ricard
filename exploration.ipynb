{
 "cells": [
  {
   "cell_type": "markdown",
   "metadata": {
    "collapsed": false,
    "jupyter": {
     "outputs_hidden": false
    }
   },
   "source": [
    "![](./img/intro.png)"
   ]
  },
  {
   "cell_type": "markdown",
   "source": [
    "# Let's have a look on the data !\n",
    "\n",
    "<br>\n",
    "We have 2 data sets:\n",
    "\n",
    "\n",
    "### 1- NYC taxi rides\n",
    "which contains our observations of today's interest:\n",
    "<br><br>\n",
    "\n",
    "| Column name | Description |\n",
    "| :- | :- |\n",
    "| vendor_id | The id of the vendor|\n",
    "| pickup_datetime | The start date of the ride |\n",
    "| dropoff_datetime | The end date of the ride |\n",
    "| passenger_count | Number of passenger |\n",
    "| trip_distance | The distance in Mile of the ride|\n",
    "| pickup_longitude | The longitude of starting point of the ride |\n",
    "| pickup_latitude | The latitude of starting point of the ride |\n",
    "| rate_code | The rate code |\n",
    "| store_and_fwd_flag | TBD |\n",
    "| dropoff_longitude | The longitude of end point of the ride |\n",
    "| dropoff_latitude | The longitude of end point of the ride |\n",
    "| payment_type | Type of payment |\n",
    "| fare_amount | Amount of the ride in dollars |\n",
    "\n",
    "\n",
    "### 2- NYC weather\n",
    "which contains of information about the weather per day such as wind, snow details and\n",
    " etc.\n"
   ],
   "metadata": {
    "collapsed": false
   }
  },
  {
   "cell_type": "markdown",
   "source": [
    "# Let's have a full report of the observations !\n",
    "\n",
    "We will produce a full report using ydata_profiling. The report will be save as an\n",
    "html file named \"report.html\" placed at the root of this workshop.\n",
    "\n",
    "When it's done, open it in your browser."
   ],
   "metadata": {
    "collapsed": false
   }
  },
  {
   "cell_type": "code",
   "execution_count": null,
   "metadata": {
    "collapsed": false,
    "jupyter": {
     "outputs_hidden": false
    }
   },
   "outputs": [],
   "source": [
    "from ydata_profiling import ProfileReport\n",
    "\n",
    "from src.data import get_dataset\n",
    "\n",
    "# Load the NYC taxi rides\n",
    "data = get_dataset()\n",
    "\n",
    "# Produce the report and save it\n",
    "profile = ProfileReport(data, title=\"NYC taxi\")\n",
    "profile.to_file(\"./report.html\")"
   ]
  },
  {
   "cell_type": "markdown",
   "source": [
    "<center><img src=\"./img/foot.png\"/></center>"
   ],
   "metadata": {
    "collapsed": false
   }
  },
  {
   "cell_type": "code",
   "execution_count": null,
   "outputs": [],
   "source": [],
   "metadata": {
    "collapsed": false
   }
  }
 ],
 "metadata": {
  "kernelspec": {
   "display_name": "Python 3 (ipykernel)",
   "language": "python",
   "name": "python3"
  },
  "language_info": {
   "codemirror_mode": {
    "name": "ipython",
    "version": 3
   },
   "file_extension": ".py",
   "mimetype": "text/x-python",
   "name": "python",
   "nbconvert_exporter": "python",
   "pygments_lexer": "ipython3",
   "version": "3.8.10"
  }
 },
 "nbformat": 4,
 "nbformat_minor": 4
}
